{
 "cells": [
  {
   "cell_type": "code",
   "execution_count": 1,
   "metadata": {},
   "outputs": [],
   "source": [
    "import networkx as nx"
   ]
  },
  {
   "cell_type": "code",
   "execution_count": 23,
   "metadata": {},
   "outputs": [],
   "source": [
    "def find_density(G, U):\n",
    "    H = G.subgraph(U)\n",
    "    return len(H.edges())/len(H.nodes())\n"
   ]
  },
  {
   "cell_type": "code",
   "execution_count": 10,
   "metadata": {},
   "outputs": [
    {
     "data": {
      "text/plain": [
       "0.8"
      ]
     },
     "execution_count": 10,
     "metadata": {},
     "output_type": "execute_result"
    }
   ],
   "source": [
    "find_density(nx.path_graph(10), [i for i in range(5)])"
   ]
  },
  {
   "cell_type": "code",
   "execution_count": 11,
   "metadata": {},
   "outputs": [
    {
     "data": {
      "text/plain": [
       "0.0"
      ]
     },
     "execution_count": 11,
     "metadata": {},
     "output_type": "execute_result"
    }
   ],
   "source": [
    "find_density(nx.path_graph(10), [i for i in range(0, 10, 2)])"
   ]
  },
  {
   "cell_type": "code",
   "execution_count": 12,
   "metadata": {},
   "outputs": [
    {
     "data": {
      "text/plain": [
       "4.5"
      ]
     },
     "execution_count": 12,
     "metadata": {},
     "output_type": "execute_result"
    }
   ],
   "source": [
    "find_density(nx.complete_graph(10), [i for i in range(10)])"
   ]
  },
  {
   "cell_type": "code",
   "execution_count": 24,
   "metadata": {},
   "outputs": [
    {
     "data": {
      "text/plain": [
       "2.0"
      ]
     },
     "execution_count": 24,
     "metadata": {},
     "output_type": "execute_result"
    }
   ],
   "source": [
    "find_density(nx.complete_graph(10), [i for i in range(5)])"
   ]
  },
  {
   "cell_type": "code",
   "execution_count": 25,
   "metadata": {},
   "outputs": [
    {
     "data": {
      "text/plain": [
       "(0.8, [0, 1, 2, 3, 4])"
      ]
     },
     "execution_count": 25,
     "metadata": {},
     "output_type": "execute_result"
    }
   ],
   "source": [
    "import math\n",
    "\n",
    "def maximum_density(G):\n",
    "    #print(G.nodes())\n",
    "    max_dens = 0\n",
    "    max_U = []\n",
    "    for i in range(1, int(math.pow(2, len(G.nodes())))):\n",
    "        #print(\"i\", i)\n",
    "        cmb = list(map(int, bin(i)[2:]))\n",
    "        if len(cmb)<len(G.nodes()):\n",
    "            cmb = [0 for i in range(len(G.nodes())-len(cmb))] + cmb\n",
    "        #print(cmb)\n",
    "        U = []\n",
    "        i = 0\n",
    "        for n in G.nodes():\n",
    "            if cmb[i]==1:\n",
    "                U.append(n)\n",
    "            i += 1\n",
    "        #print(U)\n",
    "        t = find_density(G, U)\n",
    "        if t>max_dens:\n",
    "            max_dens = t\n",
    "            max_U = U\n",
    "    return max_dens, max_U\n",
    "\n",
    "maximum_density(nx.path_graph(5))\n"
   ]
  },
  {
   "cell_type": "code",
   "execution_count": 26,
   "metadata": {},
   "outputs": [],
   "source": [
    "def ordered_edge(u, v):\n",
    "    if u>v:\n",
    "        t = u\n",
    "        u = v\n",
    "        v = t\n",
    "    return u, v"
   ]
  },
  {
   "cell_type": "code",
   "execution_count": 27,
   "metadata": {},
   "outputs": [
    {
     "data": {
      "text/plain": [
       "{(0, 1), (1, 2)}"
      ]
     },
     "execution_count": 27,
     "metadata": {},
     "output_type": "execute_result"
    }
   ],
   "source": [
    "def restricted_to_edges(E, U, G):\n",
    "    H = G.subgraph(U)\n",
    "    E_H = set()\n",
    "    for e in H.edges():\n",
    "        u, v = e\n",
    "        u, v = ordered_edge(u, v)\n",
    "        E_H.add((u, v))\n",
    "    E_E = set()\n",
    "    for e in E:\n",
    "        u, v = e\n",
    "        u, v = ordered_edge(u, v)\n",
    "        E_E.add((u, v))\n",
    "    return E_H & E_E\n",
    "\n",
    "restricted_to_edges([(1, 0), (1, 2)], [0, 1, 2], nx.complete_graph(4))"
   ]
  },
  {
   "cell_type": "code",
   "execution_count": 28,
   "metadata": {},
   "outputs": [
    {
     "data": {
      "text/plain": [
       "0"
      ]
     },
     "execution_count": 28,
     "metadata": {},
     "output_type": "execute_result"
    }
   ],
   "source": [
    "def cov_G(E, v, G):\n",
    "    N_v = G[v]\n",
    "    U = []\n",
    "    for u in N_v:\n",
    "        U.append(u)\n",
    "    return len(restricted_to_edges(E, U, G))\n",
    "    \n",
    "cov_G([(1, 0), (1, 2)], 2, nx.path_graph(4))"
   ]
  },
  {
   "cell_type": "code",
   "execution_count": 29,
   "metadata": {},
   "outputs": [
    {
     "data": {
      "text/plain": [
       "<networkx.classes.graph.Graph at 0x7f21a6ce97f0>"
      ]
     },
     "execution_count": 29,
     "metadata": {},
     "output_type": "execute_result"
    }
   ],
   "source": [
    "def restricted_neighbor_graph(E, v, G):\n",
    "    # get nodes\n",
    "    N_v = G[v]\n",
    "    U = []\n",
    "    for u in N_v:\n",
    "        U.append(u)\n",
    "    # add edges\n",
    "    G_out = nx.Graph()\n",
    "    G_out.add_nodes_from(U)\n",
    "    H = G.subgraph(U)\n",
    "    for e in H.edges():\n",
    "        u, v = e\n",
    "        G_out.add_edge(u, v)\n",
    "    # remove edges\n",
    "    E_st = set()\n",
    "    for e in E:\n",
    "        u, v = e\n",
    "        u, v = ordered_edge(u, v)\n",
    "        E_st.add((u, v))\n",
    "    G_st = set()\n",
    "    for e in G_out.edges():\n",
    "        u, v = e\n",
    "        u, v = ordered_edge(u, v)\n",
    "        G_st.add((u, v))\n",
    "    E2 = G_st - E_st\n",
    "    for e in E2:\n",
    "        u, v = e\n",
    "        G_out.remove_edge(u, v)\n",
    "    return G_out\n",
    "\n",
    "restricted_neighbor_graph([(1, 0), (1, 2), (2, 3)], 2, nx.path_graph(4))"
   ]
  },
  {
   "cell_type": "code",
   "execution_count": 30,
   "metadata": {},
   "outputs": [
    {
     "data": {
      "text/plain": [
       "(0.5, [0, 1])"
      ]
     },
     "execution_count": 30,
     "metadata": {},
     "output_type": "execute_result"
    }
   ],
   "source": [
    "def max_density_neighbor_graph(E, v, G):\n",
    "    return maximum_density(restricted_neighbor_graph(E, v, G))\n",
    "\n",
    "#max_density_neighbor_graph([(1, 0), (1, 2), (2, 3)], 2, nx.path_graph(4))\n",
    "max_density_neighbor_graph([(1, 0), (1, 2), (2, 3)], 2, nx.complete_graph(4))"
   ]
  },
  {
   "cell_type": "code",
   "execution_count": 40,
   "metadata": {},
   "outputs": [
    {
     "name": "stdout",
     "output_type": "stream",
     "text": [
      "{(0, 1), (0, 3), (0, 2)}\n",
      "[(0, 1), (0, 2), (0, 3), (1, 2), (1, 3), (2, 3)]\n",
      "{(0, 1), (0, 7), (0, 6), (0, 5), (0, 4), (0, 9), (0, 3), (0, 8), (0, 2)}\n",
      "[(0, 1), (0, 2), (0, 3), (0, 4), (0, 5), (0, 6), (0, 7), (0, 8), (0, 9), (1, 2), (1, 9), (2, 3), (3, 4), (4, 5), (5, 6), (6, 7), (7, 8), (8, 9)]\n"
     ]
    }
   ],
   "source": [
    "def approx_2_spanner(G):\n",
    "    ordered_edges = []\n",
    "    for e in G.edges():\n",
    "        u, v = e\n",
    "        u, v = ordered_edge(u, v)\n",
    "        ordered_edges.append((u, v))\n",
    "    H_u = set(ordered_edges)\n",
    "    H_c = set()\n",
    "    H_s = set()\n",
    "    #print(H_u, H_c, H_s)\n",
    "    while True:\n",
    "        mx_density = 0\n",
    "        mx_U = -1\n",
    "        mx_v = -1\n",
    "        for v in G.nodes():\n",
    "            density, U_v = max_density_neighbor_graph(H_u, v, G)\n",
    "            if mx_density < density:\n",
    "                mx_density = density\n",
    "                mx_U = U_v\n",
    "                mx_v = v\n",
    "        #print(mx_density)\n",
    "        if mx_density<1:\n",
    "            break\n",
    "        #update H_u, H_c, H_s\n",
    "        E_new = set()\n",
    "        for u in mx_U:\n",
    "            x = u\n",
    "            y = mx_v\n",
    "            x, y = ordered_edge(x, y)\n",
    "            E_new.add((x, y))\n",
    "        H_s = H_s.union(E_new)\n",
    "        H_c = H_c.union(restricted_to_edges(H_u, mx_U, G)).union(H_s)\n",
    "        H_u = H_u - H_c\n",
    "    return H_s.union(H_u)\n",
    "    \n",
    "G = nx.complete_graph(4)\n",
    "print(approx_2_spanner(G))\n",
    "print(G.edges())\n",
    "G = nx.wheel_graph(10)\n",
    "print(approx_2_spanner(G))\n",
    "print(G.edges())"
   ]
  },
  {
   "cell_type": "code",
   "execution_count": null,
   "metadata": {},
   "outputs": [],
   "source": []
  }
 ],
 "metadata": {
  "kernelspec": {
   "display_name": "Python 3",
   "language": "python",
   "name": "python3"
  },
  "language_info": {
   "codemirror_mode": {
    "name": "ipython",
    "version": 3
   },
   "file_extension": ".py",
   "mimetype": "text/x-python",
   "name": "python",
   "nbconvert_exporter": "python",
   "pygments_lexer": "ipython3",
   "version": "3.7.0"
  }
 },
 "nbformat": 4,
 "nbformat_minor": 2
}
