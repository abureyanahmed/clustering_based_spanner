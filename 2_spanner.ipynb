{
 "cells": [
  {
   "cell_type": "code",
   "execution_count": 2,
   "metadata": {},
   "outputs": [],
   "source": [
    "import networkx as nx"
   ]
  },
  {
   "cell_type": "code",
   "execution_count": 13,
   "metadata": {},
   "outputs": [],
   "source": [
    "def find_density(G, U):\n",
    "    H = G.subgraph(U)\n",
    "    return len(H.edges())/len(H.nodes())\n"
   ]
  },
  {
   "cell_type": "code",
   "execution_count": 9,
   "metadata": {},
   "outputs": [
    {
     "data": {
      "text/plain": [
       "2.0"
      ]
     },
     "execution_count": 9,
     "metadata": {},
     "output_type": "execute_result"
    }
   ],
   "source": [
    "find_density(nx.complete_graph(10), [i for i in range(5)])"
   ]
  },
  {
   "cell_type": "code",
   "execution_count": 10,
   "metadata": {},
   "outputs": [
    {
     "data": {
      "text/plain": [
       "0.8"
      ]
     },
     "execution_count": 10,
     "metadata": {},
     "output_type": "execute_result"
    }
   ],
   "source": [
    "find_density(nx.path_graph(10), [i for i in range(5)])"
   ]
  },
  {
   "cell_type": "code",
   "execution_count": 11,
   "metadata": {},
   "outputs": [
    {
     "data": {
      "text/plain": [
       "0.0"
      ]
     },
     "execution_count": 11,
     "metadata": {},
     "output_type": "execute_result"
    }
   ],
   "source": [
    "find_density(nx.path_graph(10), [i for i in range(0, 10, 2)])"
   ]
  },
  {
   "cell_type": "code",
   "execution_count": 12,
   "metadata": {},
   "outputs": [
    {
     "data": {
      "text/plain": [
       "4.5"
      ]
     },
     "execution_count": 12,
     "metadata": {},
     "output_type": "execute_result"
    }
   ],
   "source": [
    "find_density(nx.complete_graph(10), [i for i in range(10)])"
   ]
  },
  {
   "cell_type": "code",
   "execution_count": 14,
   "metadata": {},
   "outputs": [
    {
     "data": {
      "text/plain": [
       "0.8"
      ]
     },
     "execution_count": 14,
     "metadata": {},
     "output_type": "execute_result"
    }
   ],
   "source": [
    "import math\n",
    "\n",
    "def maximum_density(G):\n",
    "    #print(G.nodes())\n",
    "    max_dens = 0\n",
    "    for i in range(1, int(math.pow(2, len(G.nodes())))):\n",
    "        #print(\"i\", i)\n",
    "        cmb = list(map(int, bin(i)[2:]))\n",
    "        if len(cmb)<len(G.nodes()):\n",
    "            cmb = [0 for i in range(len(G.nodes())-len(cmb))] + cmb\n",
    "        #print(cmb)\n",
    "        U = []\n",
    "        i = 0\n",
    "        for n in G.nodes():\n",
    "            if cmb[i]==1:\n",
    "                U.append(n)\n",
    "            i += 1\n",
    "        #print(U)\n",
    "        t = find_density(G, U)\n",
    "        if t>max_dens:\n",
    "            max_dens = t\n",
    "    return max_dens\n",
    "\n",
    "maximum_density(nx.path_graph(5))\n"
   ]
  },
  {
   "cell_type": "code",
   "execution_count": 4,
   "metadata": {},
   "outputs": [
    {
     "data": {
      "text/plain": [
       "{(0, 1), (1, 2)}"
      ]
     },
     "execution_count": 4,
     "metadata": {},
     "output_type": "execute_result"
    }
   ],
   "source": [
    "def restricted_to_edges(E, U, G):\n",
    "    H = G.subgraph(U)\n",
    "    E_H = set()\n",
    "    for e in H.edges():\n",
    "        u, v = e\n",
    "        if u>v:\n",
    "            t = u\n",
    "            u = v\n",
    "            v = t\n",
    "        E_H.add((u, v))\n",
    "    E_E = set()\n",
    "    for e in E:\n",
    "        u, v = e\n",
    "        if u>v:\n",
    "            t = u\n",
    "            u = v\n",
    "            v = t\n",
    "        E_E.add((u, v))\n",
    "    return E_H & E_E\n",
    "\n",
    "restricted_to_edges([(1, 0), (1, 2)], [0, 1, 2], nx.complete_graph(4))"
   ]
  },
  {
   "cell_type": "code",
   "execution_count": 6,
   "metadata": {},
   "outputs": [
    {
     "data": {
      "text/plain": [
       "0"
      ]
     },
     "execution_count": 6,
     "metadata": {},
     "output_type": "execute_result"
    }
   ],
   "source": [
    "def cov_G(E, v, G):\n",
    "    N_v = G[v]\n",
    "    U = []\n",
    "    for u in N_v:\n",
    "        U.append(u)\n",
    "    return len(restricted_to_edges(E, U, G))\n",
    "    \n",
    "cov_G([(1, 0), (1, 2)], 2, nx.path_graph(4))"
   ]
  },
  {
   "cell_type": "code",
   "execution_count": 25,
   "metadata": {},
   "outputs": [
    {
     "data": {
      "text/plain": [
       "<networkx.classes.graph.Graph at 0x7f78197385f8>"
      ]
     },
     "execution_count": 25,
     "metadata": {},
     "output_type": "execute_result"
    }
   ],
   "source": [
    "def restricted_neighbor_graph(E, v, G):\n",
    "    # get nodes\n",
    "    N_v = G[v]\n",
    "    U = []\n",
    "    for u in N_v:\n",
    "        U.append(u)\n",
    "    # add edges\n",
    "    G_out = nx.Graph()\n",
    "    G_out.add_nodes_from(U)\n",
    "    H = G.subgraph(U)\n",
    "    for e in H.edges():\n",
    "        u, v = e\n",
    "        G_out.add_edge(u, v)\n",
    "    # remove edges\n",
    "    E_st = set()\n",
    "    for e in E:\n",
    "        u, v = e\n",
    "        if u>v:\n",
    "            t = u\n",
    "            u = v\n",
    "            v = t\n",
    "        E_st.add((u, v))\n",
    "    G_st = set()\n",
    "    for e in G_out.edges():\n",
    "        u, v = e\n",
    "        if u>v:\n",
    "            t = u\n",
    "            u = v\n",
    "            v = t\n",
    "        G_st.add((u, v))\n",
    "    E2 = G_st - E_st\n",
    "    for e in E2:\n",
    "        u, v = e\n",
    "        G_out.remove_edge(u, v)\n",
    "    return G_out\n",
    "\n",
    "restricted_neighbor_graph([(1, 0), (1, 2), (2, 3)], 2, nx.path_graph(4))"
   ]
  },
  {
   "cell_type": "code",
   "execution_count": 26,
   "metadata": {},
   "outputs": [
    {
     "data": {
      "text/plain": [
       "0.5"
      ]
     },
     "execution_count": 26,
     "metadata": {},
     "output_type": "execute_result"
    }
   ],
   "source": [
    "def max_density_neighbor_graph(E, v, G):\n",
    "    return maximum_density(restricted_neighbor_graph(E, v, G))\n",
    "\n",
    "#max_density_neighbor_graph([(1, 0), (1, 2), (2, 3)], 2, nx.path_graph(4))\n",
    "max_density_neighbor_graph([(1, 0), (1, 2), (2, 3)], 2, nx.complete_graph(4))"
   ]
  },
  {
   "cell_type": "code",
   "execution_count": null,
   "metadata": {},
   "outputs": [],
   "source": []
  }
 ],
 "metadata": {
  "kernelspec": {
   "display_name": "Python 3",
   "language": "python",
   "name": "python3"
  },
  "language_info": {
   "codemirror_mode": {
    "name": "ipython",
    "version": 3
   },
   "file_extension": ".py",
   "mimetype": "text/x-python",
   "name": "python",
   "nbconvert_exporter": "python",
   "pygments_lexer": "ipython3",
   "version": "3.7.0"
  }
 },
 "nbformat": 4,
 "nbformat_minor": 2
}
