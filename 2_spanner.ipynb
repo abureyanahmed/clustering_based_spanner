{
 "cells": [
  {
   "cell_type": "code",
   "execution_count": 3,
   "metadata": {},
   "outputs": [],
   "source": [
    "import networkx as nx"
   ]
  },
  {
   "cell_type": "code",
   "execution_count": 8,
   "metadata": {},
   "outputs": [],
   "source": [
    "def find_density(G, U):\n",
    "    H = G.subgraph(U)\n",
    "    return len(H.edges())/len(H.nodes())\n"
   ]
  },
  {
   "cell_type": "code",
   "execution_count": 9,
   "metadata": {},
   "outputs": [
    {
     "data": {
      "text/plain": [
       "2.0"
      ]
     },
     "execution_count": 9,
     "metadata": {},
     "output_type": "execute_result"
    }
   ],
   "source": [
    "find_density(nx.complete_graph(10), [i for i in range(5)])"
   ]
  },
  {
   "cell_type": "code",
   "execution_count": 10,
   "metadata": {},
   "outputs": [
    {
     "data": {
      "text/plain": [
       "0.8"
      ]
     },
     "execution_count": 10,
     "metadata": {},
     "output_type": "execute_result"
    }
   ],
   "source": [
    "find_density(nx.path_graph(10), [i for i in range(5)])"
   ]
  },
  {
   "cell_type": "code",
   "execution_count": 11,
   "metadata": {},
   "outputs": [
    {
     "data": {
      "text/plain": [
       "0.0"
      ]
     },
     "execution_count": 11,
     "metadata": {},
     "output_type": "execute_result"
    }
   ],
   "source": [
    "find_density(nx.path_graph(10), [i for i in range(0, 10, 2)])"
   ]
  },
  {
   "cell_type": "code",
   "execution_count": 12,
   "metadata": {},
   "outputs": [
    {
     "data": {
      "text/plain": [
       "4.5"
      ]
     },
     "execution_count": 12,
     "metadata": {},
     "output_type": "execute_result"
    }
   ],
   "source": [
    "find_density(nx.complete_graph(10), [i for i in range(10)])"
   ]
  },
  {
   "cell_type": "code",
   "execution_count": 21,
   "metadata": {},
   "outputs": [
    {
     "data": {
      "text/plain": [
       "0.8"
      ]
     },
     "execution_count": 21,
     "metadata": {},
     "output_type": "execute_result"
    }
   ],
   "source": [
    "import math\n",
    "\n",
    "def maximum_density(G):\n",
    "    #print(G.nodes())\n",
    "    max_dens = 0\n",
    "    for i in range(1, int(math.pow(2, len(G.nodes())))):\n",
    "        #print(\"i\", i)\n",
    "        cmb = list(map(int, bin(i)[2:]))\n",
    "        if len(cmb)<len(G.nodes()):\n",
    "            cmb = [0 for i in range(len(G.nodes())-len(cmb))] + cmb\n",
    "        #print(cmb)\n",
    "        U = []\n",
    "        i = 0\n",
    "        for n in G.nodes():\n",
    "            if cmb[i]==1:\n",
    "                U.append(n)\n",
    "            i += 1\n",
    "        #print(U)\n",
    "        t = find_density(G, U)\n",
    "        if t>max_dens:\n",
    "            max_dens = t\n",
    "    return max_dens\n",
    "\n",
    "maximum_density(nx.path_graph(5))\n"
   ]
  },
  {
   "cell_type": "code",
   "execution_count": null,
   "metadata": {},
   "outputs": [],
   "source": []
  }
 ],
 "metadata": {
  "kernelspec": {
   "display_name": "Python 3",
   "language": "python",
   "name": "python3"
  },
  "language_info": {
   "codemirror_mode": {
    "name": "ipython",
    "version": 3
   },
   "file_extension": ".py",
   "mimetype": "text/x-python",
   "name": "python",
   "nbconvert_exporter": "python",
   "pygments_lexer": "ipython3",
   "version": "3.7.0"
  }
 },
 "nbformat": 4,
 "nbformat_minor": 2
}
